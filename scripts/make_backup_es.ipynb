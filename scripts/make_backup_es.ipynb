{
 "cells": [
  {
   "cell_type": "code",
   "execution_count": null,
   "metadata": {},
   "outputs": [],
   "source": [
    "import json\n",
    "from datetime import datetime\n",
    "from elasticsearch import Elasticsearch\n",
    "from elasticsearch import helpers\n",
    "\n",
    "url = 'search-havasmedia-h7o3s6bmcgvqv6ubgvkamqmiwa.us-west-2.es.amazonaws.com'\n",
    "port = 80\n",
    "#url = 'localhost'\n",
    "#port = 9200\n",
    "es = Elasticsearch(url,port=port)\n",
    "\n",
    "def bulk_load(actions_):\n",
    "    res = None\n",
    "    try:\n",
    "        res = helpers.parallel_bulk(es, actions_)\n",
    "    except Exception as e:\n",
    "        print(\"There was an error\")\n",
    "        print(e)\n",
    "    return res\n",
    "\n",
    "def process_result(result_list):\n",
    "    success, fail = 0, 0\n",
    "    for i in result_list:\n",
    "        if i[0]:\n",
    "            success = success + 1\n",
    "        else:\n",
    "            fail = fail + 1\n",
    "    return success, fail"
   ]
  },
  {
   "cell_type": "code",
   "execution_count": null,
   "metadata": {},
   "outputs": [],
   "source": [
    "indices = es.indices.get_alias(\"*\")\n",
    "query = {\n",
    "    \"query\": {\n",
    "        \"match_all\": {}\n",
    "    }\n",
    "}\n",
    "for index in indices:\n",
    "    indices[index] = es.count(index=index, body=query)['count']\n",
    "indices"
   ]
  },
  {
   "cell_type": "code",
   "execution_count": null,
   "metadata": {},
   "outputs": [],
   "source": [
    "del indices['mexico_tarifas']\n",
    "del indices['colombia_agosto_2017_audio_reach']\n",
    "del indices['mexico_diciembre_2017_video_view']\n",
    "del indices['colombia_enero_2018_video_reach']\n",
    "del indices['argentina_noviembre_2017_video_reach']\n",
    "del indices['mexico_noviembre_2017_video_view']\n",
    "del indices['colombia_agosto_2017_publishing_reach']\n",
    "del indices['mexico_diciembre_2017_video_reach']\n",
    "del indices['mexico_noviembre_2017_video_reach']\n",
    "del indices['colombia_agosto_2017_video_reach']\n",
    "del indices['chile_mayo_2017_video_reach']\n",
    "indices"
   ]
  },
  {
   "cell_type": "code",
   "execution_count": null,
   "metadata": {},
   "outputs": [],
   "source": [
    "\n",
    "docs = []\n",
    "with open('/home/kira/projects/vot/backup.txt', 'w') as _file:\n",
    "    for index,count in indices.items():\n",
    "        query['size']=count\n",
    "        hits = es.search(index=index, body=query)['hits']['hits']\n",
    "        for i in hits:\n",
    "            del i['_score']\n",
    "        docs.append(hits)\n",
    "    _file.write(json.dumps(docs,indent=4))\n",
    "    "
   ]
  },
  {
   "cell_type": "code",
   "execution_count": null,
   "metadata": {},
   "outputs": [],
   "source": [
    "data=open('/home/kira/projects/vot/backup.txt').read()\n",
    "data = json.loads(data)\n",
    "bulk_result = list(bulk_load(data))\n",
    "result = process_result(bulk_result)"
   ]
  },
  {
   "cell_type": "code",
   "execution_count": null,
   "metadata": {},
   "outputs": [],
   "source": []
  },
  {
   "cell_type": "code",
   "execution_count": null,
   "metadata": {},
   "outputs": [],
   "source": []
  },
  {
   "cell_type": "code",
   "execution_count": null,
   "metadata": {},
   "outputs": [],
   "source": []
  },
  {
   "cell_type": "code",
   "execution_count": null,
   "metadata": {},
   "outputs": [],
   "source": []
  },
  {
   "cell_type": "code",
   "execution_count": null,
   "metadata": {},
   "outputs": [],
   "source": []
  },
  {
   "cell_type": "code",
   "execution_count": null,
   "metadata": {},
   "outputs": [],
   "source": [
    "def get_all_docs(index, query, total):\n",
    "    max_window = 10000\n",
    "    docs = []\n",
    "    for i in range(max_window,total,max_window):\n",
    "        query['from']=i-max_window\n",
    "        query['size']=i\n",
    "        print(query['from'], query['size'])\n",
    "        hits = es.search(index=index, body=query)['hits']['hits']\n",
    "        docs.append(hits)\n",
    "    return docs\n"
   ]
  },
  {
   "cell_type": "code",
   "execution_count": null,
   "metadata": {},
   "outputs": [],
   "source": [
    "def scroll_docs(index, query):\n",
    "    max_window = 10000\n",
    "    page = es.search(\n",
    "        index = index,\n",
    "        scroll = '10m',\n",
    "        size = max_window,\n",
    "        body = query)\n",
    "    sid = page['_scroll_id']\n",
    "    scroll_size = page['hits']['total']\n",
    "    docs = page['hits']['hits']\n",
    "    while (scroll_size > 0):\n",
    "        print(scroll_size)\n",
    "        page = es.scroll(scroll_id = sid, scroll = '2m')\n",
    "        # Update the scroll ID\n",
    "        sid = page['_scroll_id']\n",
    "        # Get the number of results that we returned in the last scroll\n",
    "        hits = page['hits']['hits']\n",
    "        scroll_size = len(hits)\n",
    "        docs += hits\n",
    "    return docs"
   ]
  },
  {
   "cell_type": "code",
   "execution_count": null,
   "metadata": {},
   "outputs": [],
   "source": [
    "query = {\n",
    "    \"query\": {\n",
    "        \"match_all\": {}\n",
    "    }\n",
    "}\n",
    "docs = scroll_docs('mexico_noviembre_2017_video_reach', query)"
   ]
  },
  {
   "cell_type": "code",
   "execution_count": null,
   "metadata": {},
   "outputs": [],
   "source": [
    "def get_backup_indices(indices):\n",
    "    for index,total in indices.items():\n",
    "        docs = scroll_docs(index, query)\n",
    "        with open('/home/kira/projects/vot/'+index, 'w') as _file:\n",
    "            _file.write(json.dumps(docs,indent=4))"
   ]
  },
  {
   "cell_type": "code",
   "execution_count": null,
   "metadata": {},
   "outputs": [],
   "source": [
    "query = {\n",
    "    \"query\": {\n",
    "        \"match_all\": {}\n",
    "    }\n",
    "}\n",
    "get_backup_indices(indices)"
   ]
  },
  {
   "cell_type": "code",
   "execution_count": null,
   "metadata": {},
   "outputs": [],
   "source": [
    "indices"
   ]
  },
  {
   "cell_type": "code",
   "execution_count": null,
   "metadata": {},
   "outputs": [],
   "source": [
    "len(docs)"
   ]
  },
  {
   "cell_type": "code",
   "execution_count": null,
   "metadata": {},
   "outputs": [],
   "source": [
    "with open('/home/kira/projects/vot/mexico_noviembre_2017_video_reach', 'w') as _file:\n",
    "    _file.write(json.dumps(docs,indent=4))"
   ]
  },
  {
   "cell_type": "code",
   "execution_count": null,
   "metadata": {},
   "outputs": [],
   "source": []
  }
 ],
 "metadata": {
  "kernelspec": {
   "display_name": "Python 3",
   "language": "python",
   "name": "python3"
  },
  "language_info": {
   "codemirror_mode": {
    "name": "ipython",
    "version": 3
   },
   "file_extension": ".py",
   "mimetype": "text/x-python",
   "name": "python",
   "nbconvert_exporter": "python",
   "pygments_lexer": "ipython3",
   "version": "3.6.5"
  }
 },
 "nbformat": 4,
 "nbformat_minor": 2
}
